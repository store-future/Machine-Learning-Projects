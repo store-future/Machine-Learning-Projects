{
 "cells": [
  {
   "cell_type": "code",
   "execution_count": null,
   "metadata": {},
   "outputs": [],
   "source": [
    "from keras.datasets import mnist\n",
    "import numpy as np\n",
    "import matplotlib.pyplot as plt\n",
    "import cv2"
   ]
  },
  {
   "cell_type": "markdown",
   "metadata": {},
   "source": [
    "# Loading Datasets and divide into Train and Test \n",
    "\n",
    "### Two ways \n",
    "    1. with load_data()\n",
    "    2. by downloading .npz   downlaod-link = https://www.kaggle.com/datasets/vikramtiwari/mnist-numpy()\n",
    "\n"
   ]
  },
  {
   "cell_type": "code",
   "execution_count": null,
   "metadata": {},
   "outputs": [],
   "source": [
    "# loading data with keras builtin method load_data() - https://keras.io/api/datasets/mnist/#load_data-function (check for reference)\n",
    "(x_train, y_train), (x_test, y_test) = mnist.load_data()\n",
    "\n",
    "# here (10000,) doesnt have pixel valuelike 28,28 in train dataset because it is a 1-d list of labels of 0-9 digits \n",
    "print(f\"X_train shape {x_train.shape}\")\n",
    "print(f\"y_train shape {y_train.shape}\")\n",
    "print(f\"x_test shape {x_test.shape}\")\n",
    "print(f\"y_test shape {y_test.shape} \")\n",
    "\n",
    "print('\\n')\n",
    "\n",
    "# printing the dimensions of each case\n",
    "print(f\"dimension of x_train is : {np.ndim(x_train)}-D\")\n",
    "print(f\"dimension of y_train is : {np.ndim(y_train)}-D\")\n",
    "print(f\"dimension of x_test  is : {np.ndim(x_test)}-D\")\n",
    "print(f\"dimension of y_test  is : {np.ndim(y_test)}-D\")\n"
   ]
  },
  {
   "cell_type": "code",
   "execution_count": null,
   "metadata": {},
   "outputs": [],
   "source": [
    "# laod dataset through dwnloading .npz file of mnist dataset\n",
    "dataset_path = 'C:/Users/DELL/Downloads/mnist.npz'\n",
    "data = np.load(dataset_path)       # np.load loads  pickel/.npz/.npy file format\n",
    "\n",
    "# The .npz file usually contains multiple arrays. You need to know the keys associated with each array.\n",
    "# You can print all available keys to know what data is inside the .npz file\n",
    "print(f\"all keys of datasets are : {data.files}\")\n",
    "\n",
    "# Assuming the keys are ['x_test', 'x_train', 'y_train', 'y_test']\n",
    "x_train = data['x_train']\n",
    "y_train = data['y_train']\n",
    "x_test = data['x_test']\n",
    "y_test = data['y_test']\n",
    "\n",
    "\n",
    "print(f\"X_train shape {x_train.shape}\")\n",
    "print(f\"X_train shape {y_train.shape}\")\n",
    "print(f\"X_train shape {x_test.shape}\")\n",
    "print(f\"X_train shape {y_test.shape}\")\n",
    "\n",
    "data.close"
   ]
  },
  {
   "cell_type": "markdown",
   "metadata": {},
   "source": [
    "# Visualize the Dataset image"
   ]
  },
  {
   "cell_type": "markdown",
   "metadata": {},
   "source": [
    "### Single image visualization"
   ]
  },
  {
   "cell_type": "code",
   "execution_count": null,
   "metadata": {},
   "outputs": [],
   "source": [
    "# function to visualize an image inside the dataset\n",
    "\n",
    "def printing_single_image(npz_file_path , image_index):\n",
    "    dataset_path = npz_file_path\n",
    "    all_data = np.load(dataset_path) #loading the dataset\n",
    "\n",
    "    image_index = image_index\n",
    "    image = all_data['x_train'][image_index]\n",
    "    label = all_data['y_train'][image_index]\n",
    "\n",
    "    print(f\"Dimension of this image is {np.ndim(image)}-D\")             #output the dimension of the image\n",
    "    print(f\"raw matrics {image}\")    #print the raw matrics for output image\n",
    "\n",
    "    plt.imshow(image)               # takes numpy array and show image into visual format\n",
    "    plt.title(f'Label: {label}')    \n",
    "    # plt.axis('off')  # Turn off axis numbers and ticks\n",
    "    plt.show()\n",
    "\n",
    "\n",
    "npz_file_path = 'C:/Users/DELL/Downloads/mnist.npz'     \n",
    "image_index = 25\n",
    "printing_single_image(npz_file_path,image_index)"
   ]
  },
  {
   "cell_type": "markdown",
   "metadata": {},
   "source": [
    "### Multiple image visualization"
   ]
  },
  {
   "cell_type": "code",
   "execution_count": 12,
   "metadata": {},
   "outputs": [],
   "source": [
    "def plot_images(images, labels, nrows, ncols):\n",
    "    \"\"\"Plot a grid of images with their labels.\"\"\"\n",
    "    fig, axes = plt.subplots(nrows, ncols)\n",
    "    for i, ax in enumerate(axes.flat):\n",
    "        if i < len(images):\n",
    "            ax.imshow(images[i])\n",
    "            ax.set_title(f\"Label: {labels[i]}\")\n",
    "            ax.axis('off')  # Turn off axis numbers and ticks\n",
    "    plt.show()\n",
    "\n",
    "# Show 25 images from the dataset\n",
    "npz_file_path = 'C:/Users/DELL/Downloads/mnist.npz'    \n",
    "all_data = np.load(npz_file_path) #loading the dataset \n",
    "\n",
    "x_train = all_data['x_train']\n",
    "y_train = all_data['y_train']\n",
    "plot_images(x_train, y_train, 3,3)\n"
   ]
  },
  {
   "cell_type": "code",
   "execution_count": 36,
   "metadata": {},
   "outputs": [
    {
     "name": "stdout",
     "output_type": "stream",
     "text": [
      "Axes(0.398529,0.381765;0.227941x0.226471)\n"
     ]
    },
    {
     "data": {
      "text/plain": [
       "<matplotlib.image.AxesImage at 0x16ad185f310>"
      ]
     },
     "execution_count": 36,
     "metadata": {},
     "output_type": "execute_result"
    },
    {
     "data": {
      "image/png": "[encoded data removed]",
      "text/plain": [
       "<Figure size 640x480 with 9 Axes>"
      ]
     },
     "metadata": {},
     "output_type": "display_data"
    }
   ],
   "source": [
    "npz_file_path = 'C:/Users/DELL/Downloads/mnist.npz'    \n",
    "all_data = np.load(npz_file_path) #loading the dataset \n",
    "\n",
    "x_train = all_data['x_train']\n",
    "y_train = all_data['y_train']\n",
    "\n",
    "fig , axes = plt.subplots(3,3)\n",
    "# print(fig)        #give the size of plotting surface\n",
    "# print(axes)       \n",
    "ax = axes[1,1]\n",
    "print(ax)\n",
    "ax.imshow(x_train[0])\n",
    "# print(len(x_train))\n",
    "# print(x_train.shape)\n",
    "# print(x_train)"
   ]
  },
  {
   "cell_type": "code",
   "execution_count": null,
   "metadata": {},
   "outputs": [],
   "source": []
  }
 ],
 "metadata": {
  "kernelspec": {
   "display_name": "env",
   "language": "python",
   "name": "python3"
  },
  "language_info": {
   "codemirror_mode": {
    "name": "ipython",
    "version": 3
   },
   "file_extension": ".py",
   "mimetype": "text/x-python",
   "name": "python",
   "nbconvert_exporter": "python",
   "pygments_lexer": "ipython3",
   "version": "3.10.0"
  }
 },
 "nbformat": 4,
 "nbformat_minor": 2
}
